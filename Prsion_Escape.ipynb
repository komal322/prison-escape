{
 "cells": [
  {
   "cell_type": "code",
   "execution_count": 7,
   "id": "90fe0446-bcd4-4edf-b312-04e89720995c",
   "metadata": {},
   "outputs": [
    {
     "ename": "NameError",
     "evalue": "name 'titanic' is not defined",
     "output_type": "error",
     "traceback": [
      "\u001b[1;31m---------------------------------------------------------------------------\u001b[0m",
      "\u001b[1;31mNameError\u001b[0m                                 Traceback (most recent call last)",
      "Cell \u001b[1;32mIn[7], line 6\u001b[0m\n\u001b[0;32m      2\u001b[0m \u001b[38;5;28;01mimport\u001b[39;00m\u001b[38;5;250m \u001b[39m\u001b[38;5;21;01mpandas\u001b[39;00m\u001b[38;5;250m \u001b[39m\u001b[38;5;28;01mas\u001b[39;00m\u001b[38;5;250m \u001b[39m\u001b[38;5;21;01mpd\u001b[39;00m\n\u001b[0;32m      3\u001b[0m \u001b[38;5;66;03m# Selecting only Age and Sex columns\u001b[39;00m\n\u001b[0;32m      4\u001b[0m \n\u001b[0;32m      5\u001b[0m \u001b[38;5;66;03m# Males\u001b[39;00m\n\u001b[1;32m----> 6\u001b[0m titanic_males \u001b[38;5;241m=\u001b[39m titanic[titanic[\u001b[38;5;124m'\u001b[39m\u001b[38;5;124mSex\u001b[39m\u001b[38;5;124m'\u001b[39m] \u001b[38;5;241m==\u001b[39m \u001b[38;5;124m'\u001b[39m\u001b[38;5;124mmale\u001b[39m\u001b[38;5;124m'\u001b[39m][\u001b[38;5;124m'\u001b[39m\u001b[38;5;124mAge\u001b[39m\u001b[38;5;124m'\u001b[39m]\n\u001b[0;32m      8\u001b[0m \u001b[38;5;66;03m# Females\u001b[39;00m\n\u001b[0;32m      9\u001b[0m titanic_females \u001b[38;5;241m=\u001b[39m titanic[titanic[\u001b[38;5;124m'\u001b[39m\u001b[38;5;124mSex\u001b[39m\u001b[38;5;124m'\u001b[39m] \u001b[38;5;241m==\u001b[39m \u001b[38;5;124m'\u001b[39m\u001b[38;5;124mfemale\u001b[39m\u001b[38;5;124m'\u001b[39m][\u001b[38;5;124m'\u001b[39m\u001b[38;5;124mAge\u001b[39m\u001b[38;5;124m'\u001b[39m]\n",
      "\u001b[1;31mNameError\u001b[0m: name 'titanic' is not defined"
     ]
    }
   ],
   "source": [
    "import numpy as np\n",
    "import pandas as pd\n",
    "# Selecting only Age and Sex columns\n",
    "\n",
    "# Males\n",
    "titanic_males = titanic[titanic['Sex'] == 'male']['Age']\n",
    "\n",
    "# Females\n",
    "titanic_females = titanic[titanic['Sex'] == 'female']['Age']\n",
    "\n",
    "import matplotlib.pyplot as plt\n",
    "\n",
    "plt.hist(titanic_males.dropna(), bins=20, alpha=0.5, label='Male')\n",
    "plt.hist(titanic_females.dropna(), bins=20, alpha=0.5, label='Female')\n",
    "\n",
    "plt.xlabel('Age')\n",
    "plt.ylabel('Number of Passengers')\n",
    "plt.title('Age Distribution of Titanic Passengers by Gender')\n",
    "plt.legend()\n",
    "plt.show()\n"
   ]
  },
  {
   "cell_type": "code",
   "execution_count": null,
   "id": "f6fc955f-ce87-4160-add2-111e0bf0234e",
   "metadata": {
    "scrolled": true
   },
   "outputs": [],
   "source": [
    "import numpy as np\n",
    "import pandas as pd\n",
    "import matplotlib.pyplot as plt\n",
    "\n",
    "Age = [1, 2, 6, 4, 5]\n",
    "NumberofPassengers = [2, 4, 6, 8, 10]\n",
    "plt.plot(x, y, marker='o')\n",
    "# Load the Titanic dataset\n",
    "titanic = pd.read_csv(r\"C:\\Users\\Admin\\Desktop\\titanic 2.csv\")   # make sure the file path is correct\n",
    "\n",
    "# Selecting only Age and Sex columns\n",
    "titanic_males = titanic[titanic['Sex'] == 'male']['Age']\n",
    "titanic_females = titanic[titanic['Sex'] == 'female']['Age']\n",
    "\n",
    "# Plotting\n",
    "plt.hist(titanic_males.dropna(), bins=20, alpha=0.5, label='Male')\n",
    "plt.hist(titanic_females.dropna(), bins=20, alpha=0.5, label='Female')\n",
    "\n",
    "plt.xlabel('Age')\n",
    "plt.ylabel('Number of Passengers')\n",
    "plt.title('Age Distribution of Titanic Passengers by Gender')\n",
    "plt.legend()\n",
    "plt.show()\n",
    "print(titanic.head())\n"
   ]
  },
  {
   "cell_type": "code",
   "execution_count": null,
   "id": "245a9961-3f63-4b09-a824-65ef2e467767",
   "metadata": {},
   "outputs": [],
   "source": [
    "import pandas as pd\n",
    "import matplotlib.pyplot as plt\n",
    "\n",
    "# Sample sea ice extent dataset\n",
    "data = {\n",
    "    \"Year\": [2000, 2001, 2002, 2003, 2004, 2005, 2006, 2007, 2008, 2009],\n",
    "    \"Extent\": [6.2, 6.1, 6.0, 5.8, 5.9, 5.7, 5.6, 4.3, 4.7, 5.0],  # in million sq. km\n",
    "    \"Region\": [\"Arctic\"]*10\n",
    "}\n",
    "\n",
    "seaice = pd.DataFrame(data)\n",
    "\n",
    "# Scatter plot\n",
    "plt.scatter(seaice[\"Year\"], seaice[\"Extent\"], color=\"blue\", label=\"Sea Ice Extent\")\n",
    "\n",
    "plt.xlabel(\"Year\")\n",
    "plt.ylabel(\"Sea Ice Extent (million sq. km)\")\n",
    "plt.title(\"Arctic Sea Ice Extent Over Time\")\n",
    "plt.legend()\n",
    "plt.grid(True)\n",
    "plt.show()\n"
   ]
  },
  {
   "cell_type": "code",
   "execution_count": null,
   "id": "56157937-399f-4e83-ab96-58773c6427df",
   "metadata": {},
   "outputs": [],
   "source": [
    "import pandas as pd\n",
    "import seaborn as sns\n",
    "import matplotlib.pyplot as plt\n",
    "\n",
    "# Load dataset\n",
    "ice = pd.read_csv(r\"C:\\Users\\Admin\\Desktop\\seaice_extent.csv\")\n",
    "\n",
    "# Filter for Northern Hemisphere and only March (3) and September (9)\n",
    "ice_north = ice[(ice[\"region\"] == \"N\") & (ice[\"month\"].isin([3, 9]))]\n",
    "\n",
    "# Scatter plot with different marker styles for months\n",
    "plt.figure(figsize=(10, 6))\n",
    "sns.scatterplot(\n",
    "    x=\"time\",\n",
    "    y=\"extent\",\n",
    "    style=\"month\",   # Different markers for month=3 and month=9\n",
    "    # hue=\"month\",     # Optional: color by month as well\n",
    "    data=ice_north,\n",
    "    s=70             # marker size\n",
    ")\n",
    "\n",
    "plt.xlabel(\"Year\")\n",
    "plt.ylabel(\"Sea Ice Extent (million km²)\")\n",
    "plt.title(\"Northern Hemisphere Sea Ice Extent (March vs September)\")\n",
    "plt.ylim(0, 17)\n",
    "plt.grid(False)\n",
    "plt.show()\n"
   ]
  },
  {
   "cell_type": "code",
   "execution_count": null,
   "id": "29244840-3782-48c8-8979-20dba7ed2fe3",
   "metadata": {},
   "outputs": [],
   "source": [
    "import matplotlib.pyplot as plt\n",
    "\n",
    "y = [4, 5, 6, 7]\n",
    "\n",
    "plt.plot(y, marker='2')\n",
    "plt.title(\"Default y-axis\")\n",
    "plt.show()\n",
    "\n",
    "plt.plot(y, marker='o')\n",
    "plt.ylim(0, 10)   # force y-axis range\n",
    "plt.title(\"With plt.ylim(0, 10)\")\n",
    "plt.show()\n"
   ]
  },
  {
   "cell_type": "code",
   "execution_count": null,
   "id": "7b6ace40-4708-40c7-a82d-7c9525753d9a",
   "metadata": {},
   "outputs": [],
   "source": []
  }
 ],
 "metadata": {
  "kernelspec": {
   "display_name": "Python [conda env:base] *",
   "language": "python",
   "name": "conda-base-py"
  },
  "language_info": {
   "codemirror_mode": {
    "name": "ipython",
    "version": 3
   },
   "file_extension": ".py",
   "mimetype": "text/x-python",
   "name": "python",
   "nbconvert_exporter": "python",
   "pygments_lexer": "ipython3",
   "version": "3.13.5"
  }
 },
 "nbformat": 4,
 "nbformat_minor": 5
}
